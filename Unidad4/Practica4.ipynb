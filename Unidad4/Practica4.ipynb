{
  "nbformat": 4,
  "nbformat_minor": 0,
  "metadata": {
    "colab": {
      "provenance": [],
      "authorship_tag": "ABX9TyNrv/csE9BVgVofHLrdRWRU",
      "include_colab_link": true
    },
    "kernelspec": {
      "name": "python3",
      "display_name": "Python 3"
    },
    "language_info": {
      "name": "python"
    }
  },
  "cells": [
    {
      "cell_type": "markdown",
      "metadata": {
        "id": "view-in-github",
        "colab_type": "text"
      },
      "source": [
        "<a href=\"https://colab.research.google.com/github/EdgarLiraV/Probabilidad-y-Estadistica/blob/main/Unidad4/Practica4.ipynb\" target=\"_parent\"><img src=\"https://colab.research.google.com/assets/colab-badge.svg\" alt=\"Open In Colab\"/></a>"
      ]
    },
    {
      "cell_type": "code",
      "execution_count": 2,
      "metadata": {
        "colab": {
          "base_uri": "https://localhost:8080/"
        },
        "id": "Ofr7HjeKezc0",
        "outputId": "c4fc9d1b-7f64-4f81-b31f-bc07d86354e4"
      },
      "outputs": [
        {
          "output_type": "stream",
          "name": "stdout",
          "text": [
            "La probabilidad de que ninguno paciente sufra la enfermedad: 0.0507282029895386\n"
          ]
        }
      ],
      "source": [
        "from scipy.stats import binom\n",
        "probabilidad_exito = 0.83\n",
        "num_pacientes = 16\n",
        "X = 16\n",
        "probabilidad_ninguno_enfermo = binom.pmf(X, num_pacientes, probabilidad_exito)\n",
        "print(\"La probabilidad de que ninguno paciente sufra la enfermedad:\", probabilidad_ninguno_enfermo)"
      ]
    },
    {
      "cell_type": "code",
      "source": [
        "from scipy.stats import binom\n",
        "probabilidad_exito = 0.83\n",
        "num_pacientes = 16\n",
        "X = 0\n",
        "probabilidad_todos_enfermos = binom.pmf(X, num_pacientes, probabilidad_exito)\n",
        "print(\"La probabilidad de que ninguno paciente sufra la enfermedad:\", probabilidad_todos_enfermos)"
      ],
      "metadata": {
        "colab": {
          "base_uri": "https://localhost:8080/"
        },
        "id": "6jTXMBcsfQB5",
        "outputId": "9b11c77d-7c1e-4a97-9eb8-3c4b2befc7f4"
      },
      "execution_count": 4,
      "outputs": [
        {
          "output_type": "stream",
          "name": "stdout",
          "text": [
            "La probabilidad de que ninguno paciente sufra la enfermedad: 4.866119187566701e-13\n"
          ]
        }
      ]
    },
    {
      "cell_type": "code",
      "source": [
        "from scipy.stats import binom\n",
        "n = 10\n",
        "p = 0.10\n",
        "x = 2\n",
        "\n",
        "probabilidad_x_2 = binom.pmf(x,n,p)\n",
        "\n",
        "print(\"La probabilidad de que la variable aleatoria X sea igual a 2 es:\", probabilidad_x_2)"
      ],
      "metadata": {
        "colab": {
          "base_uri": "https://localhost:8080/"
        },
        "id": "NdZ-N-EVfdp1",
        "outputId": "6ac32cc8-5d32-42e7-ddcf-1e2501e0e930"
      },
      "execution_count": 5,
      "outputs": [
        {
          "output_type": "stream",
          "name": "stdout",
          "text": [
            "La probabilidad de que la variable aleatoria X sea igual a 2 es: 0.19371024450000007\n"
          ]
        }
      ]
    },
    {
      "cell_type": "code",
      "source": [
        "import numpy as np\n",
        "import matplotlib.pyplot as plt\n",
        "from scipy.stats import binom\n",
        "\n",
        "n=10\n",
        "p = 0.10\n",
        "valores_x = np.arange(0, n+1)\n",
        "probabilidades_x = [binom.pmf(x, n, p) for x in valores_x]\n",
        "print(\"Valores de x\\Probabilidades:\")\n",
        "for x, probabilidad in zip(valores_x, probabilidades_x):\n",
        "    print(f\"{x}\\t{probabilidad}\")\n"
      ],
      "metadata": {
        "colab": {
          "base_uri": "https://localhost:8080/"
        },
        "id": "8FrbOOJMfuf9",
        "outputId": "13dd3b5c-9a3a-44b3-d438-c3eff00bf5eb"
      },
      "execution_count": 8,
      "outputs": [
        {
          "output_type": "stream",
          "name": "stdout",
          "text": [
            "Valores de x\\Probabilidades:\n",
            "0\t0.34867844009999993\n",
            "1\t0.38742048899999965\n",
            "2\t0.19371024450000007\n",
            "3\t0.05739562799999998\n",
            "4\t0.01116026100000001\n",
            "5\t0.0014880347999999995\n",
            "6\t0.00013778100000000007\n",
            "7\t8.748000000000003e-06\n",
            "8\t3.6449999999999996e-07\n",
            "9\t8.999999999999995e-09\n",
            "10\t1.0000000000000006e-10\n"
          ]
        }
      ]
    },
    {
      "cell_type": "code",
      "source": [
        "plt.figure(figsize=(8, 6))\n",
        "plt.bar(valores_x, probabilidades_x, color='skyblue')\n",
        "plt.title('Distribución Binomial')\n",
        "plt.xlabel('Valores de x')\n",
        "plt.ylabel('Probabilidad')\n",
        "plt.xticks(valores_x)\n",
        "plt.grid(True)\n",
        "plt.show()"
      ],
      "metadata": {
        "colab": {
          "base_uri": "https://localhost:8080/",
          "height": 564
        },
        "id": "gn9FhH6MgT9M",
        "outputId": "f6d61780-fba0-4594-e8de-88d2202ab2cf"
      },
      "execution_count": 9,
      "outputs": [
        {
          "output_type": "display_data",
          "data": {
            "text/plain": [
              "<Figure size 800x600 with 1 Axes>"
            ],
            "image/png": "[encoded data removed]"
          },
          "metadata": {}
        }
      ]
    }
  ]
}