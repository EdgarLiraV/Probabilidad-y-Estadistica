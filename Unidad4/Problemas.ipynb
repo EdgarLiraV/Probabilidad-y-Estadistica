{
  "nbformat": 4,
  "nbformat_minor": 0,
  "metadata": {
    "colab": {
      "provenance": [],
      "authorship_tag": "ABX9TyOS7IWNpPvN/hU5k47bi/BT",
      "include_colab_link": true
    },
    "kernelspec": {
      "name": "python3",
      "display_name": "Python 3"
    },
    "language_info": {
      "name": "python"
    }
  },
  "cells": [
    {
      "cell_type": "markdown",
      "metadata": {
        "id": "view-in-github",
        "colab_type": "text"
      },
      "source": [
        "<a href=\"https://colab.research.google.com/github/EdgarLiraV/Probabilidad-y-Estadistica/blob/main/Unidad4/Problemas.ipynb\" target=\"_parent\"><img src=\"https://colab.research.google.com/assets/colab-badge.svg\" alt=\"Open In Colab\"/></a>"
      ]
    },
    {
      "cell_type": "code",
      "execution_count": null,
      "metadata": {
        "colab": {
          "base_uri": "https://localhost:8080/"
        },
        "id": "7ceXBgLSi5nq",
        "outputId": "30a79838-14b7-410a-aa02-eeaca3472ef0"
      },
      "outputs": [
        {
          "output_type": "stream",
          "name": "stdout",
          "text": [
            "La probabilidad de que solo vayan 2 personas en el dia es de:  0.08422433748856832\n",
            "La probabilidad de que vengan 10 personas en el dia es de:  0.018132788707821854\n"
          ]
        }
      ],
      "source": [
        "from scipy.stats import poisson\n",
        "media = 5\n",
        "probabilidad_2_personas = poisson.pmf(2, media)\n",
        "print(\"La probabilidad de que solo vayan 2 personas en el dia es de: \", probabilidad_2_personas)\n",
        "probabilidad_10_personas = poisson.pmf(10, media)\n",
        "print(\"La probabilidad de que vengan 10 personas en el dia es de: \", probabilidad_10_personas)"
      ]
    },
    {
      "cell_type": "code",
      "source": [
        "from scipy.stats import poisson\n",
        "total = 1000\n",
        "probabilidad = 0.001\n",
        "media = total * probabilidad\n",
        "probabilidad_ninguno_defectuoso = poisson.pmf(0, media)\n",
        "print(\"La probabilidad de que ninguna podadora sea defectuosa es: \", probabilidad_ninguno_defectuoso)\n",
        "probabilidad_3_defectuoso = poisson.pmf(3, media)\n",
        "print(\"La probabilidad de que ninguna podadora sea defectuosa es: \", probabilidad_3_defectuoso)\n",
        "probabilidad_4_defectuoso = poisson.pmf(4, media)\n",
        "print(\"La probabilidad de que ninguna podadora sea defectuosa es: \", probabilidad_4_defectuoso)"
      ],
      "metadata": {
        "colab": {
          "base_uri": "https://localhost:8080/"
        },
        "id": "OU0AQdCuk55k",
        "outputId": "69344e7d-f4cd-4733-824e-86c9d6c68e2b"
      },
      "execution_count": 1,
      "outputs": [
        {
          "output_type": "stream",
          "name": "stdout",
          "text": [
            "La probabilidad de que ninguna podadora sea defectuosa es:  0.36787944117144233\n",
            "La probabilidad de que ninguna podadora sea defectuosa es:  0.06131324019524039\n",
            "La probabilidad de que ninguna podadora sea defectuosa es:  0.015328310048810101\n"
          ]
        }
      ]
    }
  ]
}