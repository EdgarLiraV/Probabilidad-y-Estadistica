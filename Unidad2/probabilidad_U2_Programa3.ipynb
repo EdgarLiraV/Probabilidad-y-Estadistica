{
  "nbformat": 4,
  "nbformat_minor": 0,
  "metadata": {
    "colab": {
      "provenance": [],
      "authorship_tag": "ABX9TyMX43C8z2gDSacFzSWcfzWa",
      "include_colab_link": true
    },
    "kernelspec": {
      "name": "python3",
      "display_name": "Python 3"
    },
    "language_info": {
      "name": "python"
    }
  },
  "cells": [
    {
      "cell_type": "markdown",
      "metadata": {
        "id": "view-in-github",
        "colab_type": "text"
      },
      "source": [
        "<a href=\"https://colab.research.google.com/github/EdgarLiraV/Probabilidad-y-Estadistica/blob/main/Unidad2/probabilidad_U2_Programa3.ipynb\" target=\"_parent\"><img src=\"https://colab.research.google.com/assets/colab-badge.svg\" alt=\"Open In Colab\"/></a>"
      ]
    },
    {
      "cell_type": "code",
      "source": [
        "import math as mt\n",
        "from itertools import permutations\n",
        "from itertools import product\n",
        "import numpy as np"
      ],
      "metadata": {
        "id": "j8uR-jmoH333"
      },
      "execution_count": 3,
      "outputs": []
    },
    {
      "cell_type": "code",
      "execution_count": 7,
      "metadata": {
        "colab": {
          "base_uri": "https://localhost:8080/"
        },
        "id": "zKWjJAalGzF5",
        "outputId": "be2b452c-bcaf-4cd2-f085-1651dd4c3342"
      },
      "outputs": [
        {
          "output_type": "stream",
          "name": "stdout",
          "text": [
            "Existem  5040.0  posibles permutaciones sin repeticion del total de  10  Alumnos en grupos de  4  en  4\n"
          ]
        }
      ],
      "source": [
        "Alumnos = [\"Alexis\", \"Pablo\", \"Yahir\", \"Alejandro\", \"Daniel\", \"Naomi\", \"Alexander\", \"Obed\", \"Luis\", \"Jose\"]\n",
        "n = len(Alumnos)\n",
        "r = 4\n",
        "Pr = mt.factorial(n) / (mt.factorial(n-r))\n",
        "print(\"Existem \", Pr, \" posibles permutaciones sin repeticion del total de \", n, \" Alumnos en grupos de \", r, \" en \", r)"
      ]
    }
  ]
}